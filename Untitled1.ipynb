{
  "nbformat": 4,
  "nbformat_minor": 0,
  "metadata": {
    "colab": {
      "provenance": [],
      "authorship_tag": "ABX9TyN8+XqbnQPf1fjK0odRWPw/",
      "include_colab_link": true
    },
    "kernelspec": {
      "name": "python3",
      "display_name": "Python 3"
    },
    "language_info": {
      "name": "python"
    }
  },
  "cells": [
    {
      "cell_type": "markdown",
      "metadata": {
        "id": "view-in-github",
        "colab_type": "text"
      },
      "source": [
        "<a href=\"https://colab.research.google.com/github/EltonOliveiraDoNascimento/Projeto_ImersaoAIAlura/blob/main/Untitled1.ipynb\" target=\"_parent\"><img src=\"https://colab.research.google.com/assets/colab-badge.svg\" alt=\"Open In Colab\"/></a>"
      ]
    },
    {
      "cell_type": "markdown",
      "source": [
        "SDK do Gluglu:"
      ],
      "metadata": {
        "id": "Pj2LmTazJo9d"
      }
    },
    {
      "cell_type": "code",
      "execution_count": 1,
      "metadata": {
        "id": "GUvHLXW-JmaS"
      },
      "outputs": [],
      "source": [
        "!pip install -q -U google-generativeai"
      ]
    },
    {
      "cell_type": "code",
      "source": [
        "# Import the Python SDK\n",
        "import google.generativeai as genai\n",
        "from google.colab import userdata\n",
        "api_key = userdata.get('SECRETE_KEY')\n",
        "genai.configure(api_key=api_key)"
      ],
      "metadata": {
        "id": "63eVrOn7KJ4g"
      },
      "execution_count": 19,
      "outputs": []
    },
    {
      "cell_type": "markdown",
      "source": [
        "Listar os modelos disponíveis"
      ],
      "metadata": {
        "id": "yZnmsXmwKfSS"
      }
    },
    {
      "cell_type": "code",
      "source": [
        "for m in genai.list_models():\n",
        "  if \"generateContent\" in m.supported_generation_methods:\n",
        "    print(m.name)\n"
      ],
      "metadata": {
        "colab": {
          "base_uri": "https://localhost:8080/",
          "height": 139
        },
        "id": "2NQ9ezrSKVbI",
        "outputId": "3167f60a-c6a3-4686-9328-e9d567921255"
      },
      "execution_count": 5,
      "outputs": [
        {
          "output_type": "stream",
          "name": "stdout",
          "text": [
            "models/gemini-1.0-pro\n",
            "models/gemini-1.0-pro-001\n",
            "models/gemini-1.0-pro-latest\n",
            "models/gemini-1.0-pro-vision-latest\n",
            "models/gemini-1.5-pro-latest\n",
            "models/gemini-pro\n",
            "models/gemini-pro-vision\n"
          ]
        }
      ]
    },
    {
      "cell_type": "code",
      "source": [
        "generation_config = {\n",
        "    \"candidate_count\": 1,\n",
        "    \"temperature\": 0.7\n",
        "}"
      ],
      "metadata": {
        "id": "5Xvy_0aNMqRe"
      },
      "execution_count": 7,
      "outputs": []
    },
    {
      "cell_type": "code",
      "source": [
        "safety_settings = {\n",
        "    \"HARASSMENT\": \"BLOCK_NONE\",\n",
        "    \"HATE\": \"BLOCK_NONE\",\n",
        "    \"SEXUAL\": \"BLOCK_NONE\",\n",
        "    \"DANGEROUS\": \"BLOCK_NONE\"\n",
        "}"
      ],
      "metadata": {
        "id": "bPbbIhl8NNla"
      },
      "execution_count": 8,
      "outputs": []
    },
    {
      "cell_type": "markdown",
      "source": [
        "INICIALIZANDO O MODELO"
      ],
      "metadata": {
        "id": "2T7GhNyjOf1P"
      }
    },
    {
      "cell_type": "code",
      "source": [
        "model = genai.GenerativeModel(model_name=\"gemini-1.0-pro\", generation_config=generation_config, safety_settings=safety_settings)"
      ],
      "metadata": {
        "id": "5lQdat9WOm_p"
      },
      "execution_count": 9,
      "outputs": []
    },
    {
      "cell_type": "code",
      "source": [
        "response = model.generate_content(\"Me dê sugestões de cores para pintar as paredes de uma loja de ferramentas.\")\n",
        "print(response.text)"
      ],
      "metadata": {
        "colab": {
          "base_uri": "https://localhost:8080/",
          "height": 645
        },
        "id": "4O1OZ1uaPfq7",
        "outputId": "7dd81b1a-110d-4424-d927-6f181d0702a1"
      },
      "execution_count": 11,
      "outputs": [
        {
          "output_type": "stream",
          "name": "stdout",
          "text": [
            "**Cores neutras para uma aparência profissional:**\n",
            "\n",
            "* Cinza claro\n",
            "* Bege\n",
            "* Branco\n",
            "\n",
            "**Cores escuras para criar um ambiente sofisticado:**\n",
            "\n",
            "* Preto\n",
            "* Azul marinho\n",
            "* Verde musgo\n",
            "\n",
            "**Cores brilhantes para transmitir energia:**\n",
            "\n",
            "* Amarelo\n",
            "* Laranja\n",
            "* Vermelho\n",
            "\n",
            "**Cores específicas para transmitir a marca:**\n",
            "\n",
            "* **Ferramentas de precisão:** Azul, cinza, branco\n",
            "* **Ferramentas pesadas:** Preto, vermelho, amarelo\n",
            "* **Ferramentas elétricas:** Laranja, verde, amarelo\n",
            "\n",
            "**Combinações de cores para criar interesse:**\n",
            "\n",
            "* **Cinza claro com detalhes em amarelo:** Profissional e energizante\n",
            "* **Vermelho com preto:** Dramático e sofisticado\n",
            "* **Branco com detalhes em azul marinho:** Clean e convidativo\n",
            "\n",
            "**Considerações adicionais:**\n",
            "\n",
            "* **Luz natural:** As cores escuras podem absorver mais luz, enquanto as cores claras refletem mais.\n",
            "* **Tamanho da loja:** Cores escuras podem fazer um espaço parecer menor, enquanto cores claras podem fazê-lo parecer maior.\n",
            "* **Público-alvo:** Cores diferentes podem apelar a diferentes públicos. Por exemplo, o azul é frequentemente associado à confiança, enquanto o vermelho é associado à energia.\n"
          ]
        }
      ]
    },
    {
      "cell_type": "code",
      "source": [
        "chat = model.start_chat(history=[])"
      ],
      "metadata": {
        "id": "xx4gWZq9QY7d"
      },
      "execution_count": 12,
      "outputs": []
    },
    {
      "cell_type": "code",
      "source": [
        "prompt = input(\"Digite sua pergunta: \")\n",
        "\n",
        "while prompt != \"sair\":\n",
        "  response = chat.send_message(prompt)\n",
        "  print(\"Resposta:\", response.text, \"/n\")\n",
        "  prompt = input(\"Digite sua pergunta: \")\n",
        ""
      ],
      "metadata": {
        "colab": {
          "base_uri": "https://localhost:8080/",
          "height": 573
        },
        "id": "TeR4fiDTQvIZ",
        "outputId": "fb1cb713-5dd9-440c-e422-d2bddbb69edf"
      },
      "execution_count": 14,
      "outputs": [
        {
          "name": "stdout",
          "output_type": "stream",
          "text": [
            "Digite sua pergunta: Qual o país mais grande, em área, do mundo?\n",
            "Resposta: Rússia /n\n",
            "Digite sua pergunta: Qual a comida mais famosa mundialmente originária desse país?\n",
            "Resposta: Blini (panquecas russas) /n\n",
            "Digite sua pergunta: Descreva como preparar essa comida?\n",
            "Resposta: **Ingredientes:**\n",
            "\n",
            "* 2 xícaras de farinha de trigo\n",
            "* 2 ovos\n",
            "* 2 xícaras de leite\n",
            "* 1/4 xícara de manteiga derretida\n",
            "* 1 colher de chá de sal\n",
            "* 1 colher de chá de açúcar\n",
            "\n",
            "**Instruções:**\n",
            "\n",
            "1. Em uma tigela grande, misture a farinha, o sal e o açúcar.\n",
            "2. Em uma tigela separada, bata os ovos e o leite.\n",
            "3. Adicione gradualmente os ingredientes molhados aos ingredientes secos, mexendo até ficar homogêneo.\n",
            "4. Deixe a massa descansar por 15-20 minutos.\n",
            "5. Aqueça uma frigideira ou frigideira antiaderente em fogo médio.\n",
            "6. Unte levemente a frigideira com manteiga ou óleo.\n",
            "7. Despeje cerca de 1/4 xícara de massa na frigideira e gire para espalhar uniformemente.\n",
            "8. Cozinhe por 2-3 minutos de cada lado, ou até dourar.\n",
            "9. Sirva imediatamente com seus acompanhamentos favoritos, como manteiga, geleia, mel ou iogurte.\n",
            "\n",
            "**Dicas:**\n",
            "\n",
            "* Para blini mais fofos, deixe a massa descansar por mais tempo.\n",
            "* Você pode adicionar outras coberturas à massa, como frutas frescas, nozes ou chocolate chips.\n",
            "* Blini pode ser servido como café da manhã, almoço ou jantar. /n\n",
            "Digite sua pergunta: sair\n"
          ]
        }
      ]
    },
    {
      "cell_type": "code",
      "source": [
        "chat.history"
      ],
      "metadata": {
        "colab": {
          "base_uri": "https://localhost:8080/"
        },
        "id": "w-Y8bEfxTG8v",
        "outputId": "172be8a6-1953-4025-d5a0-eef02da58145"
      },
      "execution_count": 15,
      "outputs": [
        {
          "output_type": "execute_result",
          "data": {
            "text/plain": [
              "[parts {\n",
              "   text: \"Qual o pa\\303\\255s mais grande, em \\303\\241rea, do mundo?\"\n",
              " }\n",
              " role: \"user\",\n",
              " parts {\n",
              "   text: \"R\\303\\272ssia\"\n",
              " }\n",
              " role: \"model\",\n",
              " parts {\n",
              "   text: \"Qual a comida mais famosa mundialmente origin\\303\\241ria desse pa\\303\\255s?\"\n",
              " }\n",
              " role: \"user\",\n",
              " parts {\n",
              "   text: \"Blini (panquecas russas)\"\n",
              " }\n",
              " role: \"model\",\n",
              " parts {\n",
              "   text: \"Descreva como preparar essa comida?\"\n",
              " }\n",
              " role: \"user\",\n",
              " parts {\n",
              "   text: \"**Ingredientes:**\\n\\n* 2 x\\303\\255caras de farinha de trigo\\n* 2 ovos\\n* 2 x\\303\\255caras de leite\\n* 1/4 x\\303\\255cara de manteiga derretida\\n* 1 colher de ch\\303\\241 de sal\\n* 1 colher de ch\\303\\241 de a\\303\\247\\303\\272car\\n\\n**Instru\\303\\247\\303\\265es:**\\n\\n1. Em uma tigela grande, misture a farinha, o sal e o a\\303\\247\\303\\272car.\\n2. Em uma tigela separada, bata os ovos e o leite.\\n3. Adicione gradualmente os ingredientes molhados aos ingredientes secos, mexendo at\\303\\251 ficar homog\\303\\252neo.\\n4. Deixe a massa descansar por 15-20 minutos.\\n5. Aque\\303\\247a uma frigideira ou frigideira antiaderente em fogo m\\303\\251dio.\\n6. Unte levemente a frigideira com manteiga ou \\303\\263leo.\\n7. Despeje cerca de 1/4 x\\303\\255cara de massa na frigideira e gire para espalhar uniformemente.\\n8. Cozinhe por 2-3 minutos de cada lado, ou at\\303\\251 dourar.\\n9. Sirva imediatamente com seus acompanhamentos favoritos, como manteiga, geleia, mel ou iogurte.\\n\\n**Dicas:**\\n\\n* Para blini mais fofos, deixe a massa descansar por mais tempo.\\n* Voc\\303\\252 pode adicionar outras coberturas \\303\\240 massa, como frutas frescas, nozes ou chocolate chips.\\n* Blini pode ser servido como caf\\303\\251 da manh\\303\\243, almo\\303\\247o ou jantar.\"\n",
              " }\n",
              " role: \"model\"]"
            ]
          },
          "metadata": {},
          "execution_count": 15
        }
      ]
    },
    {
      "cell_type": "code",
      "source": [],
      "metadata": {
        "id": "aeQwJeWAUQbU"
      },
      "execution_count": null,
      "outputs": []
    }
  ]
}